{
 "cells": [
  {
   "cell_type": "markdown",
   "id": "eeb1c4fb",
   "metadata": {},
   "source": [
    "# Introduction to Natural Language Processing Catch-up 1"
   ]
  },
  {
   "cell_type": "code",
   "execution_count": 1,
   "id": "c862ca28",
   "metadata": {},
   "outputs": [],
   "source": [
    "import string\n",
    "import re\n",
    "import nltk\n",
    "\n",
    "import numpy as np\n",
    "import pandas as pd\n",
    "import matplotlib.pyplot as plt\n",
    "\n",
    "import sklearn\n",
    "from sklearn.feature_extraction.text import CountVectorizer, TfidfTransformer\n",
    "from sklearn.naive_bayes import MultinomialNB\n",
    "from sklearn.metrics import confusion_matrix, ConfusionMatrixDisplay"
   ]
  },
  {
   "cell_type": "markdown",
   "id": "cd3f7ff0",
   "metadata": {},
   "source": [
    "## The Dataset"
   ]
  },
  {
   "cell_type": "code",
   "execution_count": 2,
   "id": "e51e317e",
   "metadata": {
    "scrolled": false
   },
   "outputs": [
    {
     "name": "stderr",
     "output_type": "stream",
     "text": [
      "Reusing dataset imdb (C:\\Users\\GBO4\\.cache\\huggingface\\datasets\\imdb\\plain_text\\1.0.0\\2fdd8b9bcadd6e7055e742a706876ba43f19faee861df134affd7a3f60fc38a1)\n"
     ]
    },
    {
     "data": {
      "application/vnd.jupyter.widget-view+json": {
       "model_id": "11ad90b3b7ce446096d2115447d6bd4d",
       "version_major": 2,
       "version_minor": 0
      },
      "text/plain": [
       "  0%|          | 0/3 [00:00<?, ?it/s]"
      ]
     },
     "metadata": {},
     "output_type": "display_data"
    }
   ],
   "source": [
    "'''Load IMDB dataset'''\n",
    "from datasets import load_dataset\n",
    "\n",
    "dataset = load_dataset(\"imdb\")"
   ]
  },
  {
   "cell_type": "markdown",
   "id": "151ba7cb",
   "metadata": {},
   "source": [
    "1 . How many splits does the dataset has?\n",
    "\n",
    "Le dataset a 3 split: test, train et unsupervised."
   ]
  },
  {
   "cell_type": "code",
   "execution_count": 3,
   "id": "ce130525",
   "metadata": {
    "scrolled": true
   },
   "outputs": [
    {
     "data": {
      "text/plain": [
       "((25000, 2), (25000, 2), (50000, 2))"
      ]
     },
     "execution_count": 3,
     "metadata": {},
     "output_type": "execute_result"
    }
   ],
   "source": [
    "''' Converting dictionary to dataframe '''\n",
    "train = pd.DataFrame.from_dict(dataset['train'])\n",
    "test = pd.DataFrame.from_dict(dataset['test'])\n",
    "unsupervised = pd.DataFrame.from_dict(dataset['unsupervised'])\n",
    "\n",
    "train.shape, test.shape, unsupervised.shape"
   ]
  },
  {
   "cell_type": "markdown",
   "id": "bdcf5853",
   "metadata": {},
   "source": [
    "2 . How big are these splits?\n",
    "\n",
    "Test et Train possèdes 25000 valeurs, et Unsupervised a 50000 valeurs."
   ]
  },
  {
   "cell_type": "code",
   "execution_count": 4,
   "id": "f95923c4",
   "metadata": {
    "scrolled": true
   },
   "outputs": [
    {
     "name": "stdout",
     "output_type": "stream",
     "text": [
      "12500 12500\n",
      "12500 12500\n"
     ]
    }
   ],
   "source": [
    "test_labels = dataset[\"test\"][\"label\"]\n",
    "train_labels = dataset[\"train\"][\"label\"]\n",
    "print(train_labels.count(0), train_labels.count(1))\n",
    "print(test_labels.count(0), test_labels.count(1))"
   ]
  },
  {
   "cell_type": "markdown",
   "id": "baf1d18c",
   "metadata": {},
   "source": [
    "3 . What is the proportion of each class on the supervised splits?\n",
    "\n",
    "Les proportions de review négatives et positives sont de 50% dans les deux splits Train et Test."
   ]
  },
  {
   "cell_type": "markdown",
   "id": "7c381053",
   "metadata": {},
   "source": [
    "## Naive Bayes classifier"
   ]
  },
  {
   "cell_type": "markdown",
   "id": "1e198b33",
   "metadata": {},
   "source": [
    "1 . Create a pretreatment function\n",
    "\n",
    "En plus de passer le texte en minuscule et de retirer les ponctuations j'ai décidé de retirer les balises HTML qui restait dans le dataset à l'aide d'une regex."
   ]
  },
  {
   "cell_type": "code",
   "execution_count": 5,
   "id": "b9884295",
   "metadata": {},
   "outputs": [],
   "source": [
    "'''Function that removes punctuation, html tokens and make all the text to lower case'''\n",
    "def preprocessing(text):\n",
    "    text.translate(str.maketrans('', '', string.punctuation))\n",
    "    html = re.compile('<.*?>')\n",
    "    text = html.sub(r'', text)\n",
    "    return text.lower()"
   ]
  },
  {
   "cell_type": "code",
   "execution_count": 6,
   "id": "dd7b0b3c",
   "metadata": {},
   "outputs": [],
   "source": [
    "''' Precporcessing on all of our splits '''\n",
    "\n",
    "train[\"text\"] = train[\"text\"].apply(lambda x : preprocessing(x))\n",
    "test[\"text\"] = test[\"text\"].apply(lambda x : preprocessing(x))\n",
    "unsupervised[\"text\"] = unsupervised[\"text\"].apply(lambda x : preprocessing(x))"
   ]
  },
  {
   "cell_type": "markdown",
   "id": "0030195e",
   "metadata": {},
   "source": [
    "2 . Train a naive Bayes classifier on the training set."
   ]
  },
  {
   "cell_type": "markdown",
   "id": "87b87fe1",
   "metadata": {},
   "source": [
    "Tokenization des review et transfomration du comptage de la fréquence de mots en valeurs TFIDF"
   ]
  },
  {
   "cell_type": "code",
   "execution_count": 7,
   "id": "bc7dbe5e",
   "metadata": {},
   "outputs": [],
   "source": [
    "''' Initialize a vector of frequency of top words for both split text review '''\n",
    "\n",
    "''' number of top word to keep in the word count frequency '''\n",
    "max_features = 50000\n",
    "\n",
    "reviewTestVect = CountVectorizer(min_df=2, tokenizer=nltk.word_tokenize, max_features=max_features)\n",
    "reviewTestCount = reviewTestVect.fit_transform(test['text'])\n",
    " \n",
    "reviewTrainVect = CountVectorizer(min_df=2, tokenizer=nltk.word_tokenize, max_features=max_features)\n",
    "reviewTrainCount = reviewTestVect.fit_transform(train['text'])"
   ]
  },
  {
   "cell_type": "markdown",
   "id": "f78b3e0e",
   "metadata": {},
   "source": [
    "La variable max_feature permet de limiter le nombre de mots que l'on va prendre en compte dans notre modèle et permet aussi de s'assurer que les deux vecteurs auront les memes dimensions pour le training plus tard."
   ]
  },
  {
   "cell_type": "code",
   "execution_count": 8,
   "id": "569f0f0b",
   "metadata": {
    "scrolled": true
   },
   "outputs": [
    {
     "data": {
      "text/plain": [
       "((25000, 50000), (25000, 50000))"
      ]
     },
     "execution_count": 8,
     "metadata": {},
     "output_type": "execute_result"
    }
   ],
   "source": [
    "reviewTrainCount.shape, reviewTestCount.shape"
   ]
  },
  {
   "cell_type": "code",
   "execution_count": 9,
   "id": "24ef8513",
   "metadata": {},
   "outputs": [
    {
     "data": {
      "text/plain": [
       "((25000, 50000), (25000, 50000))"
      ]
     },
     "execution_count": 9,
     "metadata": {},
     "output_type": "execute_result"
    }
   ],
   "source": [
    "''' Converting word frequency to TFIDF values '''\n",
    "\n",
    "transformerTrain = TfidfTransformer()\n",
    "transformerTest = TfidfTransformer()\n",
    "tfidfTrain = transformerTrain.fit_transform(reviewTrainCount)\n",
    "tfidfTest = transformerTest.fit_transform(reviewTestCount)\n",
    "\n",
    "tfidfTrain.shape, tfidfTest.shape"
   ]
  },
  {
   "cell_type": "markdown",
   "id": "e7378067",
   "metadata": {},
   "source": [
    "On initialise nos X et Y en utilisant les bon splits pour Train et Test"
   ]
  },
  {
   "cell_type": "code",
   "execution_count": 10,
   "id": "d44ceba5",
   "metadata": {},
   "outputs": [],
   "source": [
    "x_train = tfidfTrain\n",
    "x_test = tfidfTest\n",
    "\n",
    "y_train = train.label\n",
    "y_test = test.label"
   ]
  },
  {
   "cell_type": "code",
   "execution_count": 11,
   "id": "d824d6b8",
   "metadata": {},
   "outputs": [],
   "source": [
    "''' Set seed to make result reporductible '''\n",
    "\n",
    "np.random.seed(42)\n",
    "\n",
    "''' Initialize Multinomial Naive Bayes model and train it on Train dataset '''\n",
    "clf = MultinomialNB().fit(x_train, y_train)"
   ]
  },
  {
   "cell_type": "code",
   "execution_count": 12,
   "id": "6ce52b58",
   "metadata": {},
   "outputs": [],
   "source": [
    "y_pred = clf.predict(x_test)\n",
    "y_train_pred = clf.predict(x_train)"
   ]
  },
  {
   "cell_type": "markdown",
   "id": "423a3fa9",
   "metadata": {},
   "source": [
    "3 . Report the accuracy on both training and test set"
   ]
  },
  {
   "cell_type": "code",
   "execution_count": 13,
   "id": "5ff56978",
   "metadata": {},
   "outputs": [
    {
     "name": "stdout",
     "output_type": "stream",
     "text": [
      "0.90596\n"
     ]
    }
   ],
   "source": [
    "''' Accuracy on Train split '''\n",
    "print(sklearn.metrics.accuracy_score(y_train, y_train_pred))"
   ]
  },
  {
   "cell_type": "code",
   "execution_count": 14,
   "id": "1d8e95b9",
   "metadata": {},
   "outputs": [
    {
     "name": "stdout",
     "output_type": "stream",
     "text": [
      "0.52072\n"
     ]
    }
   ],
   "source": [
    "''' Accuracy on Test split '''\n",
    "print(sklearn.metrics.accuracy_score(y_test, y_pred))"
   ]
  },
  {
   "cell_type": "markdown",
   "id": "114d8840",
   "metadata": {},
   "source": [
    "4 . Why is accuracy a sufficient measure of evaluation here?\n",
    "\n",
    "L'accuracy est ici une meusure suffisante d'évaluation car nous somme dans un problème de classification avec 2 classes et nos classes sont équilibré dans nos 2 splits."
   ]
  },
  {
   "cell_type": "code",
   "execution_count": 15,
   "id": "2ae90161",
   "metadata": {},
   "outputs": [
    {
     "data": {
      "image/png": "[encoded data removed]",
      "text/plain": [
       "<Figure size 432x288 with 2 Axes>"
      ]
     },
     "metadata": {
      "needs_background": "light"
     },
     "output_type": "display_data"
    }
   ],
   "source": [
    "''' Display confusion matrix to have a better view of our classification on Test dataset'''\n",
    "\n",
    "cm = confusion_matrix(y_test, y_pred, labels=clf.classes_)\n",
    "disp = ConfusionMatrixDisplay(confusion_matrix=cm,display_labels=clf.classes_)\n",
    "disp.plot()\n",
    "plt.show()"
   ]
  },
  {
   "cell_type": "markdown",
   "id": "d50711cc",
   "metadata": {},
   "source": [
    "Le résultat de cet entraînement est moyennement satisfaisant mais on peut sans doute améliorer le résultat en réduisant notre nombre de \"max_feature\" pour se focaliser sur les mots importants de notre dataset. On voit que ce que notre modèle a le plus de mal à classer sont les review négatives."
   ]
  },
  {
   "cell_type": "markdown",
   "id": "a301c95d",
   "metadata": {},
   "source": [
    "6 . Take at least 2 wrongly classified example from the test set and try explaining why the model failed."
   ]
  },
  {
   "cell_type": "code",
   "execution_count": 16,
   "id": "27ea59a8",
   "metadata": {
    "scrolled": false
   },
   "outputs": [
    {
     "name": "stdout",
     "output_type": "stream",
     "text": [
      "pred : 1 true : 0 review : i had high hopes for this one until they changed the name to 'the shepherd : border patrol, the lamest movie name ever, what was wrong with just 'the shepherd'. this is a by the numbers action flick that tips its hat at many classic van damme films. there is a nice bit of action in a bar which reminded me of hard target and universal soldier but directed with no intensity or flair which is a shame. there is one great line about 'being p*ss drunk and carrying a rabbit' and some ok action scenes let down by the cheapness of it all. a lot of the times the dialogue doesn't match the characters mouth and the stunt men fall down dead a split second before even being shot. the end fight is one of the better van damme fights except the director tries to go a bit too john woo and fails also introducing flashbacks which no one really cares about just gets in the way of the action which is the whole point of a van damme film.not good, not bad, just average generic action.\n",
      "-------------------\n",
      "pred : 1 true : 0 review : isaac florentine has made some of the best western martial arts action movies ever produced. in particular us seals 2, cold harvest, special forces and undisputed 2 are all action classics. you can tell isaac has a real passion for the genre and his films are always eventful, creative and sharp affairs, with some of the best fight sequences an action fan could hope for. in particular he has found a muse with scott adkins, as talented an actor and action performer as you could hope for. this is borne out with special forces and undisputed 2, but unfortunately the shepherd just doesn't live up to their abilities.there is no doubt that jcvd looks better here fight-wise than he has done in years, especially in the fight he has (for pretty much no reason) in a prison cell, and in the final showdown with scott, but look in his eyes. jcvd seems to be dead inside. there's nothing in his eyes at all. it's like he just doesn't care about anything throughout the whole film. and this is the leading man.there are other dodgy aspects to the film, script-wise and visually, but the main problem is that you are utterly unable to empathise with the hero of the film. a genuine shame as i know we all wanted this film to be as special as it genuinely could have been. there are some good bits, mostly the action scenes themselves. this film had a terrific director and action choreographer, and an awesome opponent for jcvd to face down. this could have been the one to bring the veteran action star back up to scratch in the balls-out action movie stakes.sincerely a shame that this didn't happen.\n"
     ]
    }
   ],
   "source": [
    "wrongly_classified = []\n",
    "for review, category_pred, category_true in zip(test['text'], y_pred, y_test):\n",
    "    if category_pred != category_true:\n",
    "        wrongly_classified.append(\"pred : \" + str(category_pred) + \" true : \" + str(category_true) + \" review : \" + review)\n",
    "\n",
    "print(wrongly_classified[4])\n",
    "print(\"-------------------\")\n",
    "print(wrongly_classified[5])"
   ]
  },
  {
   "cell_type": "markdown",
   "id": "fcd8888f",
   "metadata": {},
   "source": [
    "Dans les deux cas le modèle a prédit un avis positif alors que celui ci était négatif. Cela s'explique par le fait que dans les deux review l'utilisateur trouve quelques bons points aux films et le modèle se focalise sans doute sur les mots comme \"nice\", \"better\", \"good\" pour le classifier en tant que positif. De même on trouve finalement très peu de mots associé à un sentiment négatif dans ces deux review. Enfin la première des deux review ressemble quand même énormément à une review positive qui nous conseille d'aller voir se film même s'il n'est pas excelent donc très difficile à considérer comme une review \"négaitve\"."
   ]
  },
  {
   "cell_type": "markdown",
   "id": "0bc3d00f",
   "metadata": {},
   "source": [
    "On change \"max_feature\" pour voir si on peut obtenir de meilleurs résultats."
   ]
  },
  {
   "cell_type": "code",
   "execution_count": 20,
   "id": "c3275cae",
   "metadata": {},
   "outputs": [
    {
     "name": "stdout",
     "output_type": "stream",
     "text": [
      "0.8418\n",
      "0.58232\n"
     ]
    },
    {
     "data": {
      "image/png": "[encoded data removed]",
      "text/plain": [
       "<Figure size 432x288 with 2 Axes>"
      ]
     },
     "metadata": {
      "needs_background": "light"
     },
     "output_type": "display_data"
    }
   ],
   "source": [
    "''' Changing max_feature to see if it gives better results '''\n",
    "\n",
    "max_features = 1500\n",
    "\n",
    "reviewTestVect = CountVectorizer(min_df=2, tokenizer=nltk.word_tokenize, max_features=max_features)\n",
    "reviewTestCount = reviewTestVect.fit_transform(test['text'])\n",
    " \n",
    "reviewTrainVect = CountVectorizer(min_df=2, tokenizer=nltk.word_tokenize, max_features=max_features)\n",
    "reviewTrainCount = reviewTestVect.fit_transform(train['text'])\n",
    "\n",
    "''' Converting word frequency to TFIDF values '''\n",
    "\n",
    "transformerTrain = TfidfTransformer()\n",
    "transformerTest = TfidfTransformer()\n",
    "tfidfTrain = transformerTrain.fit_transform(reviewTrainCount)\n",
    "tfidfTest = transformerTest.fit_transform(reviewTestCount)\n",
    "\n",
    "tfidfTrain.shape, tfidfTest.shape\n",
    "\n",
    "x_train = tfidfTrain\n",
    "x_test = tfidfTest\n",
    "\n",
    "y_train = train.label\n",
    "y_test = test.label\n",
    "\n",
    "''' Set seed to make result reporductible '''\n",
    "\n",
    "np.random.seed(42)\n",
    "\n",
    "''' Initialize Multinomial Naive Bayes model and train it on Train dataset '''\n",
    "\n",
    "clf = MultinomialNB().fit(x_train, y_train)\n",
    "\n",
    "y_pred = clf.predict(x_test)\n",
    "y_train_pred = clf.predict(x_train)\n",
    "\n",
    "''' Accuracy on Train split '''\n",
    "print(sklearn.metrics.accuracy_score(y_train, y_train_pred))\n",
    "\n",
    "''' Accuracy on Test split '''\n",
    "print(sklearn.metrics.accuracy_score(y_test, y_pred))\n",
    "\n",
    "''' Display confusion matrix to have a better view of our classification on Test dataset'''\n",
    "\n",
    "cm = confusion_matrix(y_test, y_pred, labels=clf.classes_)\n",
    "disp = ConfusionMatrixDisplay(confusion_matrix=cm,display_labels=clf.classes_)\n",
    "disp.plot()\n",
    "plt.show()"
   ]
  },
  {
   "cell_type": "markdown",
   "id": "4151ff1c",
   "metadata": {},
   "source": [
    "On voit que l'on obtient de bien meilleurs (58% pour la classification Test) résultat en réduisant notre nombre de \"max_features\" on perd un petit peu de précision pour le True Positive mais on réduit grandement le nombre de False Positive."
   ]
  },
  {
   "cell_type": "markdown",
   "id": "f2c4aa89",
   "metadata": {},
   "source": [
    "## FastText"
   ]
  },
  {
   "cell_type": "markdown",
   "id": "2d5cc62c",
   "metadata": {},
   "source": [
    "## Theoritical questions"
   ]
  },
  {
   "cell_type": "markdown",
   "id": "81db54c2",
   "metadata": {},
   "source": [
    "1 . Definitions\n",
    "\n",
    "Phonetics : \n",
    "\n",
    "La phonétique c'est l'étude des sons produits lorsque quelqu'un parle. Quand on parle de phonétiqeu on s'intéresse surtout à comment le son est produit , pourquoi il fait ce son et aussi le comparer avec d'autres sons. On s'interesse aussi à l'acoustique du son et à sa propagation dans l'air, comment il est perçu par quelqu'un d'autre et comment le cerveau l'interprête et aussi à l'aticulation donc à savoir quels mouvments la perosnne fait pour produire le son.\n",
    "\n",
    "Phonology :\n",
    "\n",
    "La phonologie est plus générale que la phonétique qui est une partie de la phonologie, car la cette denière se focalise sur la structure des phonèmes (différents sons qui une fois mis ensemble forme un mot) dans les mots. Ce qui compte dans la phonologie c'est comment ces phonèmes sont organisés et les structures similaires dans les mots et dans la langue de manières générale.\n",
    "\n",
    "Morphology : \n",
    "\n",
    "C'est l'étude de la structure et de la classification des mots dans un language. C'est ici que l'on va retrouver les concept de racine, préfixe et suffixe et que l'ethymologie peut d'un mot rentre en compte. C'est le premier niveau où on va pouvoir relier les mots entre eux.\n",
    "\n",
    "Syntax :\n",
    "\n",
    "La syntahxe c'est l'ordre des mots dans une phrase, c'est ce qui donne une fonction à un mot dans la phrase comme verbe, sujet ou complément. Ici on commence à s'interesser aux relations fonctionnelles entres les mots.\n",
    "\n",
    "Sementics :\n",
    "\n",
    "La sémentique c'est le sens, les idées que véhicule un mot dans une phrase et les thèmes avec lesquels il est lié.\n",
    "\n",
    "Pragmatics :\n",
    "\n",
    "C'est la discipline qui s'intéresse au sens et à la fonction des mots du languages en prenant en compte le context dans lequel il est compris."
   ]
  },
  {
   "cell_type": "markdown",
   "id": "5d4585f3",
   "metadata": {},
   "source": [
    "2 . What is the difference between stemming and lemmatization? \n",
    "\n",
    "Le stemming utilise une liste de préfix et de suffixe qui sera tronqué aux mots rnecontrés pour obtenir des \"stem\" ou souches. Pour cela on a besoin d'une liste avant de commencer notre algorithme pour pouvoir reconnaître et tronquer les suffixes et prefixes afin de ne plus qu'avoir les racines supposés des mots du tet qu'on veut analyser.\n",
    "\n",
    "La lemmatization se base de son côté sur l'analyse morphologique des mots, pour cela l'algorithme se base sur un dictionnaire détaillé avec les relations entre les mots et remonte en partant du mot pour en retrouver la racine.\n",
    "\n",
    "L'avantage du stemming c'est que c'est une méthode simple à implementer et qui nécessite certe une liste de suffixe et de préfixe mais qui arrive rapidement à des premiers resultats satisfaisant. Cependant on arrive très vite sur les limites du modèles quand beaucoup de mot ne sont pas simplement des racine avec des préfixes ou suffixe et que le mot change complètment de manière de s'ecrire comme par exemple en français \"suis\" est lié au verbe \"être\" mais n'a aucune lettre en commun pour retrouver une racine en tronquant le mot.\n",
    "\n",
    "De son côté la lemmatization évite se problème avec l'aide d'un dictionnaire de mots très hierachisé et avec toutes les relatiosn morphologiques des mots. Cependant cela necessite beaucoup plus de connaissance linguistiques pour pouvoir être mis en place et beaucoup plus de temps. Mais cela nosu permet d'être ausiment sûr de retrouver les racines de mots de notre texte."
   ]
  },
  {
   "cell_type": "markdown",
   "id": "64381ec1",
   "metadata": {},
   "source": [
    "3 . On logistic regression\n",
    "\n",
    "La descente de gradient stochastique est une méthode pour minimiser la fonciton de perte d'un modèle. Elle se fait à la fin de chaque exemple d'entrainement en faisant varier légerement le paramètre de notre fonction de perte afin de savoir dans quel direction elle diminue (principe de la descente de gradient).\n",
    "\n",
    "Le rôle du taux d'aprentissage (learning rate) est de nous indiquer à quelle vitesse notre modèle s'adapte au problème qu'il essaye de résoudre. Cela nous permet de calibrer la durée de son entrainement et le nombre d'epochs afin d'eviter de se retrouver dans une soulution sous optimale ou que la progression du modèle soit bloquée dans son apprentissage.\n",
    "\n",
    "Il est possible qu'on ne trouve pas de minimum si notre taux d'apprentissage est trop elevé et de même s'il est trop faible on peut se retrouver à être bloqué dans un minimum local."
   ]
  },
  {
   "cell_type": "markdown",
   "id": "e8a924ae",
   "metadata": {},
   "source": [
    "4 . What problems does TF-iDF try to solve?\n",
    "\n",
    "TF-iDF essaie de meusurer le poids d'un mot dans untexte donné en utilisant la fréquence à laquelle ce mot apparait ainsi qu'au nombre d'occurence de ce mot.\n",
    "\n",
    "La partie TF (Terme Frequency) est le nombre d'occurence du terme dans le text. On va alors associer un poids à chaque mot qui est proportionnelle à son nombre d'occurence. \n",
    "\n",
    "La partie iDF (inverse Document Frequency) meusure à quel point un terme est présent dans un corpus de texte, on vise à trouver les terme qui sont discriminant dans le corpus avec cette partie et réduit l'importance des terme qui reviennent trop souvent."
   ]
  },
  {
   "cell_type": "markdown",
   "id": "3c37bc83",
   "metadata": {},
   "source": [
    "5 . Summarize how the skip-gram method of Word2Vec works using a couple of paragraphs.\n",
    "\n",
    "Le but de la méthode skip-gram est d'apprendre le context et la structure des mots dans un corpus en utilisant un réseau de neurone. Pour cela on utilise des exemples simple pour entrainer notre réseau de neurones le but est pour le moment de produire des sorties qui prédisent lesm ots autour du mot d'entré. On peut bien sur regler le nombre de mots autour que l'on veut prédire. Pour cela on part d'un couche d'entré qui est un vecteur de la taille de notre vocabulaire, une couche cachée, et une couche de sortie qui est une classification avec une fonction d'activation softmax. On fait une retropropagation à chaque passage d'un groupe d'entrainement visant un mot.\n",
    "\n",
    "Le skip-gram est une méthode miroir à celle CBOW mais elle demande moins de données de test et représentes assez fidèlement les différents mots mêmes les plus rares du corpus. Cependant elle est plus longue à entrainer que CBOW."
   ]
  },
  {
   "cell_type": "code",
   "execution_count": 18,
   "id": "5a7db204",
   "metadata": {},
   "outputs": [
    {
     "name": "stdout",
     "output_type": "stream",
     "text": [
      "Note: you may need to restart the kernel to use updated packages.\n"
     ]
    }
   ],
   "source": [
    "pip freeze > requirements.txt"
   ]
  }
 ],
 "metadata": {
  "kernelspec": {
   "display_name": "Python 3 (ipykernel)",
   "language": "python",
   "name": "python3"
  },
  "language_info": {
   "codemirror_mode": {
    "name": "ipython",
    "version": 3
   },
   "file_extension": ".py",
   "mimetype": "text/x-python",
   "name": "python",
   "nbconvert_exporter": "python",
   "pygments_lexer": "ipython3",
   "version": "3.10.2"
  }
 },
 "nbformat": 4,
 "nbformat_minor": 5
}
